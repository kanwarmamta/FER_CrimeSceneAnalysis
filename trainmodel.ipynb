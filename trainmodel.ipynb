{
 "cells": [
  {
   "cell_type": "code",
   "execution_count": 1,
   "id": "19ce7749",
   "metadata": {},
   "outputs": [
    {
     "name": "stdout",
     "output_type": "stream",
     "text": [
      "WARNING:tensorflow:From C:\\Users\\mamta\\AppData\\Local\\Programs\\Python\\Python311\\Lib\\site-packages\\keras\\src\\losses.py:2976: The name tf.losses.sparse_softmax_cross_entropy is deprecated. Please use tf.compat.v1.losses.sparse_softmax_cross_entropy instead.\n",
      "\n"
     ]
    }
   ],
   "source": [
    "from keras.utils import to_categorical\n",
    "from keras.preprocessing.image import load_img\n",
    "from keras.models import Sequential\n",
    "from keras.layers import Dense, Conv2D, Dropout, Flatten, MaxPooling2D\n",
    "import os\n",
    "import pandas as pd\n",
    "import numpy as np"
   ]
  },
  {
   "cell_type": "code",
   "execution_count": 2,
   "id": "02e9c221",
   "metadata": {},
   "outputs": [],
   "source": [
    "TRAIN_DIR = 'images/train'\n",
    "TEST_DIR = 'images/test'"
   ]
  },
  {
   "cell_type": "code",
   "execution_count": 3,
   "id": "ede9c1f1",
   "metadata": {},
   "outputs": [],
   "source": [
    "def createdataframe(dir):\n",
    "    image_paths = []\n",
    "    labels = []\n",
    "    for label in os.listdir(dir):\n",
    "        for imagename in os.listdir(os.path.join(dir,label)):\n",
    "            image_paths.append(os.path.join(dir,label,imagename))\n",
    "            labels.append(label)\n",
    "        print(label, \"completed\")\n",
    "    return image_paths,labels\n"
   ]
  },
  {
   "cell_type": "code",
   "execution_count": 4,
   "id": "a3a8f1a9",
   "metadata": {},
   "outputs": [
    {
     "name": "stdout",
     "output_type": "stream",
     "text": [
      "0 completed\n",
      "1 completed\n",
      "2 completed\n",
      "3 completed\n",
      "4 completed\n",
      "5 completed\n",
      "6 completed\n"
     ]
    }
   ],
   "source": [
    "train = pd.DataFrame()\n",
    "train['image'], train['label'] = createdataframe(TRAIN_DIR)"
   ]
  },
  {
   "cell_type": "code",
   "execution_count": 5,
   "id": "c8a0cd29",
   "metadata": {},
   "outputs": [
    {
     "name": "stdout",
     "output_type": "stream",
     "text": [
      "                                      image label\n",
      "0      images/train\\0\\Training_10002154.jpg     0\n",
      "1      images/train\\0\\Training_10031781.jpg     0\n",
      "2      images/train\\0\\Training_10055498.jpg     0\n",
      "3      images/train\\0\\Training_10059941.jpg     0\n",
      "4      images/train\\0\\Training_10078021.jpg     0\n",
      "...                                     ...   ...\n",
      "28704  images/train\\6\\Training_99946015.jpg     6\n",
      "28705  images/train\\6\\Training_99949469.jpg     6\n",
      "28706  images/train\\6\\Training_99957517.jpg     6\n",
      "28707  images/train\\6\\Training_99966135.jpg     6\n",
      "28708  images/train\\6\\Training_99982465.jpg     6\n",
      "\n",
      "[28709 rows x 2 columns]\n"
     ]
    }
   ],
   "source": [
    "print(train)"
   ]
  },
  {
   "cell_type": "code",
   "execution_count": 6,
   "id": "7f9688fc",
   "metadata": {},
   "outputs": [
    {
     "name": "stdout",
     "output_type": "stream",
     "text": [
      "0 completed\n",
      "1 completed\n",
      "2 completed\n",
      "3 completed\n",
      "4 completed\n",
      "5 completed\n",
      "6 completed\n"
     ]
    }
   ],
   "source": [
    "test = pd.DataFrame()\n",
    "test['image'], test['label'] = createdataframe(TEST_DIR)"
   ]
  },
  {
   "cell_type": "code",
   "execution_count": 7,
   "id": "7f504f5d",
   "metadata": {},
   "outputs": [
    {
     "name": "stdout",
     "output_type": "stream",
     "text": [
      "                                       image label\n",
      "0     images/test\\0\\PrivateTest_10086748.jpg     0\n",
      "1     images/test\\0\\PrivateTest_10767287.jpg     0\n",
      "2     images/test\\0\\PrivateTest_11123843.jpg     0\n",
      "3     images/test\\0\\PrivateTest_11164800.jpg     0\n",
      "4     images/test\\0\\PrivateTest_11239107.jpg     0\n",
      "...                                      ...   ...\n",
      "7173   images/test\\6\\PublicTest_99365116.jpg     6\n",
      "7174   images/test\\6\\PublicTest_99509833.jpg     6\n",
      "7175   images/test\\6\\PublicTest_99607072.jpg     6\n",
      "7176   images/test\\6\\PublicTest_99646813.jpg     6\n",
      "7177   images/test\\6\\PublicTest_99743122.jpg     6\n",
      "\n",
      "[7178 rows x 2 columns]\n",
      "0       images/test\\0\\PrivateTest_10086748.jpg\n",
      "1       images/test\\0\\PrivateTest_10767287.jpg\n",
      "2       images/test\\0\\PrivateTest_11123843.jpg\n",
      "3       images/test\\0\\PrivateTest_11164800.jpg\n",
      "4       images/test\\0\\PrivateTest_11239107.jpg\n",
      "                         ...                  \n",
      "7173     images/test\\6\\PublicTest_99365116.jpg\n",
      "7174     images/test\\6\\PublicTest_99509833.jpg\n",
      "7175     images/test\\6\\PublicTest_99607072.jpg\n",
      "7176     images/test\\6\\PublicTest_99646813.jpg\n",
      "7177     images/test\\6\\PublicTest_99743122.jpg\n",
      "Name: image, Length: 7178, dtype: object\n"
     ]
    }
   ],
   "source": [
    "print(test)\n",
    "print(test['image'])"
   ]
  },
  {
   "cell_type": "code",
   "execution_count": 8,
   "id": "693324b0",
   "metadata": {},
   "outputs": [],
   "source": [
    "from tqdm.notebook import tqdm"
   ]
  },
  {
   "cell_type": "code",
   "execution_count": 9,
   "id": "f52ccbbe",
   "metadata": {},
   "outputs": [],
   "source": [
    "def extract_features(images):\n",
    "    features = []\n",
    "    for image in tqdm(images):\n",
    "        img = load_img(image,grayscale =  True )\n",
    "        img = np.array(img)\n",
    "        features.append(img)\n",
    "    features = np.array(features)\n",
    "    features = features.reshape(len(features),48,48,1)\n",
    "    return features"
   ]
  },
  {
   "cell_type": "code",
   "execution_count": 10,
   "id": "1bcc6225-f36f-4966-9d1a-940eaa0e3dd0",
   "metadata": {},
   "outputs": [],
   "source": [
    "# for image_path in tqdm(images):\n",
    "#     print(f\"Processing image: {image_path}\")\n",
    "#     img = load_img(image_path, grayscale=True)"
   ]
  },
  {
   "cell_type": "code",
   "execution_count": 11,
   "id": "942a9d40",
   "metadata": {},
   "outputs": [
    {
     "data": {
      "application/vnd.jupyter.widget-view+json": {
       "model_id": "1c20c8f611504e0ab72432dbf67db1be",
       "version_major": 2,
       "version_minor": 0
      },
      "text/plain": [
       "  0%|          | 0/28709 [00:00<?, ?it/s]"
      ]
     },
     "metadata": {},
     "output_type": "display_data"
    },
    {
     "name": "stderr",
     "output_type": "stream",
     "text": [
      "C:\\Users\\mamta\\AppData\\Local\\Programs\\Python\\Python311\\Lib\\site-packages\\keras\\src\\utils\\image_utils.py:409: UserWarning: grayscale is deprecated. Please use color_mode = \"grayscale\"\n",
      "  warnings.warn(\n"
     ]
    }
   ],
   "source": [
    "train_features = extract_features(train['image']) "
   ]
  },
  {
   "cell_type": "code",
   "execution_count": 12,
   "id": "c1b294ed",
   "metadata": {},
   "outputs": [
    {
     "data": {
      "application/vnd.jupyter.widget-view+json": {
       "model_id": "47db8aeb6fa04210a3c7e833a400a0a5",
       "version_major": 2,
       "version_minor": 0
      },
      "text/plain": [
       "  0%|          | 0/7178 [00:00<?, ?it/s]"
      ]
     },
     "metadata": {},
     "output_type": "display_data"
    }
   ],
   "source": [
    "test_features = extract_features(test['image'])"
   ]
  },
  {
   "cell_type": "code",
   "execution_count": 13,
   "id": "f78b5d34",
   "metadata": {},
   "outputs": [],
   "source": [
    "x_train = train_features/255.0\n",
    "x_test = test_features/255.0"
   ]
  },
  {
   "cell_type": "code",
   "execution_count": 14,
   "id": "c0e20a1d-5913-48c7-b318-97e7d3d64078",
   "metadata": {},
   "outputs": [],
   "source": [
    "# print(\"Unique labels in y_train:\", np(y_train))"
   ]
  },
  {
   "cell_type": "code",
   "execution_count": 15,
   "id": "c660fca1",
   "metadata": {},
   "outputs": [],
   "source": [
    "from sklearn.preprocessing import LabelEncoder"
   ]
  },
  {
   "cell_type": "code",
   "execution_count": 16,
   "id": "5384a25b",
   "metadata": {},
   "outputs": [],
   "source": [
    "# le = LabelEncoder()\n",
    "# le.fit(train['label'])"
   ]
  },
  {
   "cell_type": "code",
   "execution_count": 17,
   "id": "95857d87-0e0c-496b-8478-dff495898580",
   "metadata": {},
   "outputs": [
    {
     "name": "stdout",
     "output_type": "stream",
     "text": [
      "Data type of labels in train set: object\n",
      "Sample values from train set: ['0' '1' '2' '3' '4' '5' '6']\n"
     ]
    }
   ],
   "source": [
    "# Check data type of labels in train set\n",
    "print(\"Data type of labels in train set:\", train['label'].dtype)\n",
    "\n",
    "# Print some sample values from train set\n",
    "print(\"Sample values from train set:\", train['label'].unique())\n"
   ]
  },
  {
   "cell_type": "code",
   "execution_count": 18,
   "id": "50ece229",
   "metadata": {},
   "outputs": [],
   "source": [
    "y_train = train['label'].values\n",
    "y_test = test['label'].values"
   ]
  },
  {
   "cell_type": "code",
   "execution_count": 19,
   "id": "e14eb070-4170-4a47-a236-d1510bc6360c",
   "metadata": {},
   "outputs": [
    {
     "name": "stdout",
     "output_type": "stream",
     "text": [
      "Unique labels in y_train: ['0' '1' '2' '3' '4' '5' '6']\n"
     ]
    }
   ],
   "source": [
    "print(\"Unique labels in y_train:\", np.unique(y_train))"
   ]
  },
  {
   "cell_type": "code",
   "execution_count": 20,
   "id": "5e284299",
   "metadata": {},
   "outputs": [],
   "source": [
    "# y_train = to_categorical(y_train,num_classes = 7)\n",
    "# y_test = to_categorical(y_test,num_classes = 7)"
   ]
  },
  {
   "cell_type": "code",
   "execution_count": 21,
   "id": "0c6d9654-4b1f-4d0e-8a06-5f5d986023e7",
   "metadata": {},
   "outputs": [
    {
     "name": "stdout",
     "output_type": "stream",
     "text": [
      "Unique labels in y_train: ['0' '1' '2' '3' '4' '5' '6']\n"
     ]
    }
   ],
   "source": [
    "print(\"Unique labels in y_train:\", np.unique(y_train))\n"
   ]
  },
  {
   "cell_type": "code",
   "execution_count": 22,
   "id": "222f49cc-2877-490a-93b1-c4ad8f11e322",
   "metadata": {},
   "outputs": [],
   "source": [
    "# from collections import Counter\n",
    "\n",
    "# # Convert each NumPy array in y_train to a tuple\n",
    "# y_train_tuples = [tuple(arr) for arr in y_train]\n",
    "\n",
    "# # Use Counter on the tuples\n",
    "# label_counts = Counter(y_train_tuples)\n",
    "# print(label_counts)\n"
   ]
  },
  {
   "cell_type": "code",
   "execution_count": 23,
   "id": "3977223a",
   "metadata": {},
   "outputs": [
    {
     "name": "stdout",
     "output_type": "stream",
     "text": [
      "WARNING:tensorflow:From C:\\Users\\mamta\\AppData\\Local\\Programs\\Python\\Python311\\Lib\\site-packages\\keras\\src\\backend.py:873: The name tf.get_default_graph is deprecated. Please use tf.compat.v1.get_default_graph instead.\n",
      "\n",
      "WARNING:tensorflow:From C:\\Users\\mamta\\AppData\\Local\\Programs\\Python\\Python311\\Lib\\site-packages\\keras\\src\\layers\\pooling\\max_pooling2d.py:161: The name tf.nn.max_pool is deprecated. Please use tf.nn.max_pool2d instead.\n",
      "\n"
     ]
    }
   ],
   "source": [
    "model = Sequential()\n",
    "# convolutional layers\n",
    "model.add(Conv2D(128, kernel_size=(3,3), activation='relu', input_shape=(48,48,1)))\n",
    "model.add(MaxPooling2D(pool_size=(2,2)))\n",
    "model.add(Dropout(0.4))\n",
    "\n",
    "model.add(Conv2D(256, kernel_size=(3,3), activation='relu'))\n",
    "model.add(MaxPooling2D(pool_size=(2,2)))\n",
    "model.add(Dropout(0.4))\n",
    "\n",
    "model.add(Conv2D(512, kernel_size=(3,3), activation='relu'))\n",
    "model.add(MaxPooling2D(pool_size=(2,2)))\n",
    "model.add(Dropout(0.4))\n",
    "\n",
    "model.add(Conv2D(512, kernel_size=(3,3), activation='relu'))\n",
    "model.add(MaxPooling2D(pool_size=(2,2)))\n",
    "model.add(Dropout(0.4))\n",
    "\n",
    "model.add(Flatten())\n",
    "# fully connected layers\n",
    "model.add(Dense(512, activation='relu'))\n",
    "model.add(Dropout(0.4))\n",
    "model.add(Dense(256, activation='relu'))\n",
    "model.add(Dropout(0.3))\n",
    "# output layer\n",
    "model.add(Dense(7, activation='softmax'))"
   ]
  },
  {
   "cell_type": "code",
   "execution_count": 24,
   "id": "de986d6e",
   "metadata": {},
   "outputs": [
    {
     "name": "stdout",
     "output_type": "stream",
     "text": [
      "WARNING:tensorflow:From C:\\Users\\mamta\\AppData\\Local\\Programs\\Python\\Python311\\Lib\\site-packages\\keras\\src\\optimizers\\__init__.py:309: The name tf.train.Optimizer is deprecated. Please use tf.compat.v1.train.Optimizer instead.\n",
      "\n"
     ]
    }
   ],
   "source": [
    "model.compile(optimizer = 'adam', loss = 'sparse_categorical_crossentropy', metrics = 'accuracy' )"
   ]
  },
  {
   "cell_type": "code",
   "execution_count": 25,
   "id": "70beb2a4-df31-4ee5-8f07-df6b7bcc2a4b",
   "metadata": {},
   "outputs": [],
   "source": [
    "# Example for features\n",
    "x_train = x_train.astype('float32')\n",
    "x_test = x_test.astype('float32')\n",
    "\n",
    "# Example for labels (if using integer labels)\n",
    "y_train = y_train.astype('int')\n",
    "y_test = y_test.astype('int')\n"
   ]
  },
  {
   "cell_type": "code",
   "execution_count": 26,
   "id": "5cd0b130",
   "metadata": {},
   "outputs": [
    {
     "name": "stdout",
     "output_type": "stream",
     "text": [
      "Epoch 1/100\n",
      "WARNING:tensorflow:From C:\\Users\\mamta\\AppData\\Local\\Programs\\Python\\Python311\\Lib\\site-packages\\keras\\src\\utils\\tf_utils.py:492: The name tf.ragged.RaggedTensorValue is deprecated. Please use tf.compat.v1.ragged.RaggedTensorValue instead.\n",
      "\n",
      "WARNING:tensorflow:From C:\\Users\\mamta\\AppData\\Local\\Programs\\Python\\Python311\\Lib\\site-packages\\keras\\src\\engine\\base_layer_utils.py:384: The name tf.executing_eagerly_outside_functions is deprecated. Please use tf.compat.v1.executing_eagerly_outside_functions instead.\n",
      "\n",
      "225/225 [==============================] - 150s 656ms/step - loss: 1.8213 - accuracy: 0.2470 - val_loss: 1.8147 - val_accuracy: 0.2471\n",
      "Epoch 2/100\n",
      "225/225 [==============================] - 147s 654ms/step - loss: 1.7869 - accuracy: 0.2565 - val_loss: 1.7315 - val_accuracy: 0.2947\n",
      "Epoch 3/100\n",
      "225/225 [==============================] - 282s 1s/step - loss: 1.6971 - accuracy: 0.3076 - val_loss: 1.5943 - val_accuracy: 0.3749\n",
      "Epoch 4/100\n",
      "225/225 [==============================] - 156s 692ms/step - loss: 1.5750 - accuracy: 0.3796 - val_loss: 1.4652 - val_accuracy: 0.4277\n",
      "Epoch 5/100\n",
      "225/225 [==============================] - 157s 696ms/step - loss: 1.4755 - accuracy: 0.4267 - val_loss: 1.3569 - val_accuracy: 0.4760\n",
      "Epoch 6/100\n",
      "225/225 [==============================] - 166s 738ms/step - loss: 1.4232 - accuracy: 0.4509 - val_loss: 1.3093 - val_accuracy: 0.4964\n",
      "Epoch 7/100\n",
      "225/225 [==============================] - 168s 746ms/step - loss: 1.3801 - accuracy: 0.4699 - val_loss: 1.2945 - val_accuracy: 0.4992\n",
      "Epoch 8/100\n",
      "225/225 [==============================] - 167s 743ms/step - loss: 1.3485 - accuracy: 0.4836 - val_loss: 1.2611 - val_accuracy: 0.5113\n",
      "Epoch 9/100\n",
      "225/225 [==============================] - 185s 821ms/step - loss: 1.3242 - accuracy: 0.4952 - val_loss: 1.2227 - val_accuracy: 0.5308\n",
      "Epoch 10/100\n",
      "225/225 [==============================] - 195s 868ms/step - loss: 1.2990 - accuracy: 0.5043 - val_loss: 1.2019 - val_accuracy: 0.5397\n",
      "Epoch 11/100\n",
      "225/225 [==============================] - 180s 801ms/step - loss: 1.2757 - accuracy: 0.5164 - val_loss: 1.1811 - val_accuracy: 0.5496\n",
      "Epoch 12/100\n",
      "225/225 [==============================] - 188s 837ms/step - loss: 1.2582 - accuracy: 0.5199 - val_loss: 1.1721 - val_accuracy: 0.5539\n",
      "Epoch 13/100\n",
      "225/225 [==============================] - 185s 823ms/step - loss: 1.2439 - accuracy: 0.5249 - val_loss: 1.1766 - val_accuracy: 0.5522\n",
      "Epoch 14/100\n",
      "225/225 [==============================] - 183s 811ms/step - loss: 1.2278 - accuracy: 0.5331 - val_loss: 1.1513 - val_accuracy: 0.5599\n",
      "Epoch 15/100\n",
      "225/225 [==============================] - 176s 781ms/step - loss: 1.2139 - accuracy: 0.5388 - val_loss: 1.1450 - val_accuracy: 0.5581\n",
      "Epoch 16/100\n",
      "225/225 [==============================] - 184s 817ms/step - loss: 1.2040 - accuracy: 0.5447 - val_loss: 1.1327 - val_accuracy: 0.5649\n",
      "Epoch 17/100\n",
      "225/225 [==============================] - 159s 707ms/step - loss: 1.1924 - accuracy: 0.5439 - val_loss: 1.1243 - val_accuracy: 0.5691\n",
      "Epoch 18/100\n",
      "225/225 [==============================] - 199s 884ms/step - loss: 1.1710 - accuracy: 0.5548 - val_loss: 1.1130 - val_accuracy: 0.5766\n",
      "Epoch 19/100\n",
      "225/225 [==============================] - 182s 808ms/step - loss: 1.1729 - accuracy: 0.5548 - val_loss: 1.1006 - val_accuracy: 0.5783\n",
      "Epoch 20/100\n",
      "225/225 [==============================] - 178s 793ms/step - loss: 1.1581 - accuracy: 0.5562 - val_loss: 1.0989 - val_accuracy: 0.5815\n",
      "Epoch 21/100\n",
      "225/225 [==============================] - 180s 799ms/step - loss: 1.1487 - accuracy: 0.5648 - val_loss: 1.1010 - val_accuracy: 0.5840\n",
      "Epoch 22/100\n",
      "225/225 [==============================] - 172s 767ms/step - loss: 1.1403 - accuracy: 0.5679 - val_loss: 1.1090 - val_accuracy: 0.5829\n",
      "Epoch 23/100\n",
      "225/225 [==============================] - 176s 781ms/step - loss: 1.1417 - accuracy: 0.5659 - val_loss: 1.0899 - val_accuracy: 0.5850\n",
      "Epoch 24/100\n",
      "225/225 [==============================] - 190s 843ms/step - loss: 1.1175 - accuracy: 0.5775 - val_loss: 1.0831 - val_accuracy: 0.5830\n",
      "Epoch 25/100\n",
      "225/225 [==============================] - 177s 787ms/step - loss: 1.1144 - accuracy: 0.5771 - val_loss: 1.0851 - val_accuracy: 0.5910\n",
      "Epoch 26/100\n",
      "225/225 [==============================] - 198s 882ms/step - loss: 1.1035 - accuracy: 0.5828 - val_loss: 1.0831 - val_accuracy: 0.5864\n",
      "Epoch 27/100\n",
      "225/225 [==============================] - 417s 2s/step - loss: 1.0927 - accuracy: 0.5845 - val_loss: 1.0683 - val_accuracy: 0.5945\n",
      "Epoch 28/100\n",
      "225/225 [==============================] - 160s 710ms/step - loss: 1.0843 - accuracy: 0.5916 - val_loss: 1.0619 - val_accuracy: 0.5926\n",
      "Epoch 29/100\n",
      "225/225 [==============================] - 180s 799ms/step - loss: 1.0756 - accuracy: 0.5969 - val_loss: 1.0587 - val_accuracy: 0.5985\n",
      "Epoch 30/100\n",
      "225/225 [==============================] - 183s 813ms/step - loss: 1.0750 - accuracy: 0.5954 - val_loss: 1.0685 - val_accuracy: 0.5874\n",
      "Epoch 31/100\n",
      "225/225 [==============================] - 182s 810ms/step - loss: 1.0642 - accuracy: 0.6026 - val_loss: 1.0627 - val_accuracy: 0.5897\n",
      "Epoch 32/100\n",
      "225/225 [==============================] - 182s 807ms/step - loss: 1.0576 - accuracy: 0.6005 - val_loss: 1.0613 - val_accuracy: 0.5953\n",
      "Epoch 33/100\n",
      "225/225 [==============================] - 180s 802ms/step - loss: 1.0459 - accuracy: 0.6004 - val_loss: 1.0630 - val_accuracy: 0.5996\n",
      "Epoch 34/100\n",
      "225/225 [==============================] - 182s 810ms/step - loss: 1.0406 - accuracy: 0.6081 - val_loss: 1.0525 - val_accuracy: 0.5984\n",
      "Epoch 35/100\n",
      "225/225 [==============================] - 176s 783ms/step - loss: 1.0422 - accuracy: 0.6068 - val_loss: 1.0444 - val_accuracy: 0.6063\n",
      "Epoch 36/100\n",
      "225/225 [==============================] - 176s 781ms/step - loss: 1.0325 - accuracy: 0.6101 - val_loss: 1.0482 - val_accuracy: 0.6056\n",
      "Epoch 37/100\n",
      "225/225 [==============================] - 175s 776ms/step - loss: 1.0269 - accuracy: 0.6137 - val_loss: 1.0561 - val_accuracy: 0.6009\n",
      "Epoch 38/100\n",
      "225/225 [==============================] - 182s 809ms/step - loss: 1.0186 - accuracy: 0.6181 - val_loss: 1.0425 - val_accuracy: 0.5995\n",
      "Epoch 39/100\n",
      "225/225 [==============================] - 182s 811ms/step - loss: 1.0109 - accuracy: 0.6222 - val_loss: 1.0530 - val_accuracy: 0.6053\n",
      "Epoch 40/100\n",
      "225/225 [==============================] - 182s 810ms/step - loss: 1.0059 - accuracy: 0.6253 - val_loss: 1.0343 - val_accuracy: 0.6109\n",
      "Epoch 41/100\n",
      "225/225 [==============================] - 177s 785ms/step - loss: 0.9927 - accuracy: 0.6271 - val_loss: 1.0429 - val_accuracy: 0.6035\n",
      "Epoch 42/100\n",
      "225/225 [==============================] - 179s 797ms/step - loss: 0.9930 - accuracy: 0.6254 - val_loss: 1.0312 - val_accuracy: 0.6103\n",
      "Epoch 43/100\n",
      "225/225 [==============================] - 181s 806ms/step - loss: 0.9856 - accuracy: 0.6317 - val_loss: 1.0369 - val_accuracy: 0.6131\n",
      "Epoch 44/100\n",
      "225/225 [==============================] - 180s 799ms/step - loss: 0.9758 - accuracy: 0.6326 - val_loss: 1.0384 - val_accuracy: 0.6043\n",
      "Epoch 45/100\n",
      "225/225 [==============================] - 181s 805ms/step - loss: 0.9717 - accuracy: 0.6331 - val_loss: 1.0292 - val_accuracy: 0.6165\n",
      "Epoch 46/100\n",
      "225/225 [==============================] - 185s 823ms/step - loss: 0.9660 - accuracy: 0.6374 - val_loss: 1.0273 - val_accuracy: 0.6099\n",
      "Epoch 47/100\n",
      "225/225 [==============================] - 183s 814ms/step - loss: 0.9577 - accuracy: 0.6389 - val_loss: 1.0352 - val_accuracy: 0.6102\n",
      "Epoch 48/100\n",
      "225/225 [==============================] - 186s 828ms/step - loss: 0.9525 - accuracy: 0.6408 - val_loss: 1.0273 - val_accuracy: 0.6140\n",
      "Epoch 49/100\n",
      "225/225 [==============================] - 190s 844ms/step - loss: 0.9499 - accuracy: 0.6444 - val_loss: 1.0297 - val_accuracy: 0.6130\n",
      "Epoch 50/100\n",
      "225/225 [==============================] - 181s 807ms/step - loss: 0.9471 - accuracy: 0.6469 - val_loss: 1.0352 - val_accuracy: 0.6117\n",
      "Epoch 51/100\n",
      "225/225 [==============================] - 184s 817ms/step - loss: 0.9371 - accuracy: 0.6511 - val_loss: 1.0251 - val_accuracy: 0.6188\n",
      "Epoch 52/100\n",
      "225/225 [==============================] - 184s 819ms/step - loss: 0.9257 - accuracy: 0.6547 - val_loss: 1.0361 - val_accuracy: 0.6167\n",
      "Epoch 53/100\n",
      "225/225 [==============================] - 189s 840ms/step - loss: 0.9265 - accuracy: 0.6550 - val_loss: 1.0192 - val_accuracy: 0.6201\n",
      "Epoch 54/100\n",
      "225/225 [==============================] - 188s 834ms/step - loss: 0.9124 - accuracy: 0.6577 - val_loss: 1.0294 - val_accuracy: 0.6184\n",
      "Epoch 55/100\n",
      "225/225 [==============================] - 184s 819ms/step - loss: 0.9094 - accuracy: 0.6599 - val_loss: 1.0456 - val_accuracy: 0.6101\n",
      "Epoch 56/100\n",
      "225/225 [==============================] - 194s 861ms/step - loss: 0.9157 - accuracy: 0.6576 - val_loss: 1.0362 - val_accuracy: 0.6108\n",
      "Epoch 57/100\n",
      "225/225 [==============================] - 187s 831ms/step - loss: 0.9094 - accuracy: 0.6594 - val_loss: 1.0392 - val_accuracy: 0.6225\n",
      "Epoch 58/100\n",
      "225/225 [==============================] - 232s 1s/step - loss: 0.8953 - accuracy: 0.6678 - val_loss: 1.0227 - val_accuracy: 0.6251\n",
      "Epoch 59/100\n",
      "225/225 [==============================] - 203s 900ms/step - loss: 0.8908 - accuracy: 0.6701 - val_loss: 1.0362 - val_accuracy: 0.6148\n",
      "Epoch 60/100\n",
      "225/225 [==============================] - 165s 733ms/step - loss: 0.8838 - accuracy: 0.6722 - val_loss: 1.0165 - val_accuracy: 0.6218\n",
      "Epoch 61/100\n",
      "225/225 [==============================] - 166s 740ms/step - loss: 0.8817 - accuracy: 0.6705 - val_loss: 1.0155 - val_accuracy: 0.6262\n",
      "Epoch 62/100\n",
      "225/225 [==============================] - 165s 733ms/step - loss: 0.8827 - accuracy: 0.6735 - val_loss: 1.0280 - val_accuracy: 0.6229\n",
      "Epoch 63/100\n",
      "225/225 [==============================] - 165s 734ms/step - loss: 0.8737 - accuracy: 0.6765 - val_loss: 1.0210 - val_accuracy: 0.6208\n",
      "Epoch 64/100\n",
      "225/225 [==============================] - 167s 744ms/step - loss: 0.8631 - accuracy: 0.6780 - val_loss: 1.0112 - val_accuracy: 0.6251\n",
      "Epoch 65/100\n",
      "225/225 [==============================] - 166s 736ms/step - loss: 0.8685 - accuracy: 0.6772 - val_loss: 1.0168 - val_accuracy: 0.6279\n",
      "Epoch 66/100\n",
      "225/225 [==============================] - 166s 737ms/step - loss: 0.8692 - accuracy: 0.6785 - val_loss: 1.0289 - val_accuracy: 0.6211\n",
      "Epoch 67/100\n",
      "225/225 [==============================] - 164s 729ms/step - loss: 0.8550 - accuracy: 0.6849 - val_loss: 1.0251 - val_accuracy: 0.6233\n",
      "Epoch 68/100\n",
      "225/225 [==============================] - 161s 716ms/step - loss: 0.8428 - accuracy: 0.6884 - val_loss: 1.0178 - val_accuracy: 0.6262\n",
      "Epoch 69/100\n",
      "225/225 [==============================] - 161s 715ms/step - loss: 0.8361 - accuracy: 0.6917 - val_loss: 1.0217 - val_accuracy: 0.6208\n",
      "Epoch 70/100\n",
      "225/225 [==============================] - 163s 723ms/step - loss: 0.8440 - accuracy: 0.6871 - val_loss: 1.0190 - val_accuracy: 0.6254\n",
      "Epoch 71/100\n",
      "225/225 [==============================] - 161s 716ms/step - loss: 0.8349 - accuracy: 0.6911 - val_loss: 1.0213 - val_accuracy: 0.6254\n",
      "Epoch 72/100\n",
      "225/225 [==============================] - 161s 716ms/step - loss: 0.8343 - accuracy: 0.6915 - val_loss: 1.0188 - val_accuracy: 0.6225\n",
      "Epoch 73/100\n",
      "225/225 [==============================] - 163s 726ms/step - loss: 0.8333 - accuracy: 0.6934 - val_loss: 1.0263 - val_accuracy: 0.6244\n",
      "Epoch 74/100\n",
      "225/225 [==============================] - 162s 719ms/step - loss: 0.8240 - accuracy: 0.6949 - val_loss: 1.0266 - val_accuracy: 0.6297\n",
      "Epoch 75/100\n",
      "225/225 [==============================] - 162s 719ms/step - loss: 0.8213 - accuracy: 0.7010 - val_loss: 1.0280 - val_accuracy: 0.6225\n",
      "Epoch 76/100\n",
      "225/225 [==============================] - 161s 713ms/step - loss: 0.8079 - accuracy: 0.7032 - val_loss: 1.0172 - val_accuracy: 0.6340\n",
      "Epoch 77/100\n",
      "225/225 [==============================] - 161s 717ms/step - loss: 0.8030 - accuracy: 0.7062 - val_loss: 1.0253 - val_accuracy: 0.6241\n",
      "Epoch 78/100\n",
      "225/225 [==============================] - 164s 728ms/step - loss: 0.8126 - accuracy: 0.7034 - val_loss: 1.0277 - val_accuracy: 0.6276\n",
      "Epoch 79/100\n",
      "225/225 [==============================] - 159s 708ms/step - loss: 0.7978 - accuracy: 0.7066 - val_loss: 1.0310 - val_accuracy: 0.6223\n",
      "Epoch 80/100\n",
      "225/225 [==============================] - 158s 704ms/step - loss: 0.7965 - accuracy: 0.7062 - val_loss: 1.0181 - val_accuracy: 0.6280\n",
      "Epoch 81/100\n",
      "225/225 [==============================] - 158s 701ms/step - loss: 0.7968 - accuracy: 0.7068 - val_loss: 1.0297 - val_accuracy: 0.6290\n",
      "Epoch 82/100\n",
      "225/225 [==============================] - 157s 700ms/step - loss: 0.7847 - accuracy: 0.7106 - val_loss: 1.0343 - val_accuracy: 0.6213\n",
      "Epoch 83/100\n",
      "225/225 [==============================] - 157s 698ms/step - loss: 0.7826 - accuracy: 0.7117 - val_loss: 1.0350 - val_accuracy: 0.6273\n",
      "Epoch 84/100\n",
      "225/225 [==============================] - 156s 696ms/step - loss: 0.7844 - accuracy: 0.7139 - val_loss: 1.0328 - val_accuracy: 0.6230\n",
      "Epoch 85/100\n",
      "225/225 [==============================] - 157s 698ms/step - loss: 0.7818 - accuracy: 0.7114 - val_loss: 1.0182 - val_accuracy: 0.6350\n",
      "Epoch 86/100\n",
      "225/225 [==============================] - 159s 708ms/step - loss: 0.7827 - accuracy: 0.7133 - val_loss: 1.0263 - val_accuracy: 0.6289\n",
      "Epoch 87/100\n",
      "225/225 [==============================] - 157s 698ms/step - loss: 0.7744 - accuracy: 0.7163 - val_loss: 1.0356 - val_accuracy: 0.6269\n",
      "Epoch 88/100\n",
      "225/225 [==============================] - 158s 701ms/step - loss: 0.7733 - accuracy: 0.7183 - val_loss: 1.0267 - val_accuracy: 0.6275\n",
      "Epoch 89/100\n",
      "225/225 [==============================] - 158s 702ms/step - loss: 0.7523 - accuracy: 0.7242 - val_loss: 1.0296 - val_accuracy: 0.6273\n",
      "Epoch 90/100\n",
      "225/225 [==============================] - 157s 699ms/step - loss: 0.7569 - accuracy: 0.7243 - val_loss: 1.0250 - val_accuracy: 0.6271\n",
      "Epoch 91/100\n",
      "225/225 [==============================] - 158s 701ms/step - loss: 0.7520 - accuracy: 0.7252 - val_loss: 1.0344 - val_accuracy: 0.6335\n",
      "Epoch 92/100\n",
      "225/225 [==============================] - 159s 709ms/step - loss: 0.7557 - accuracy: 0.7251 - val_loss: 1.0201 - val_accuracy: 0.6310\n",
      "Epoch 93/100\n",
      "225/225 [==============================] - 160s 712ms/step - loss: 0.7382 - accuracy: 0.7323 - val_loss: 1.0259 - val_accuracy: 0.6297\n",
      "Epoch 94/100\n",
      "225/225 [==============================] - 160s 711ms/step - loss: 0.7407 - accuracy: 0.7327 - val_loss: 1.0226 - val_accuracy: 0.6305\n",
      "Epoch 95/100\n",
      "225/225 [==============================] - 159s 707ms/step - loss: 0.7334 - accuracy: 0.7328 - val_loss: 1.0216 - val_accuracy: 0.6328\n",
      "Epoch 96/100\n",
      "225/225 [==============================] - 160s 710ms/step - loss: 0.7347 - accuracy: 0.7356 - val_loss: 1.0319 - val_accuracy: 0.6294\n",
      "Epoch 97/100\n",
      "225/225 [==============================] - 160s 710ms/step - loss: 0.7243 - accuracy: 0.7397 - val_loss: 1.0334 - val_accuracy: 0.6397\n",
      "Epoch 98/100\n",
      "225/225 [==============================] - 162s 722ms/step - loss: 0.7301 - accuracy: 0.7348 - val_loss: 1.0406 - val_accuracy: 0.6262\n",
      "Epoch 99/100\n",
      "225/225 [==============================] - 160s 712ms/step - loss: 0.7247 - accuracy: 0.7364 - val_loss: 1.0235 - val_accuracy: 0.6369\n",
      "Epoch 100/100\n",
      "225/225 [==============================] - 160s 712ms/step - loss: 0.7148 - accuracy: 0.7412 - val_loss: 1.0268 - val_accuracy: 0.6390\n"
     ]
    },
    {
     "data": {
      "text/plain": [
       "<keras.src.callbacks.History at 0x1ea00abcf50>"
      ]
     },
     "execution_count": 26,
     "metadata": {},
     "output_type": "execute_result"
    }
   ],
   "source": [
    "model.fit(x= x_train,y = y_train, batch_size = 128, epochs = 100, validation_data = (x_test,y_test)) "
   ]
  },
  {
   "cell_type": "code",
   "execution_count": null,
   "id": "071ade41",
   "metadata": {},
   "outputs": [],
   "source": []
  },
  {
   "cell_type": "code",
   "execution_count": 27,
   "id": "2b0f1923",
   "metadata": {},
   "outputs": [
    {
     "name": "stderr",
     "output_type": "stream",
     "text": [
      "C:\\Users\\mamta\\AppData\\Local\\Programs\\Python\\Python311\\Lib\\site-packages\\keras\\src\\engine\\training.py:3103: UserWarning: You are saving your model as an HDF5 file via `model.save()`. This file format is considered legacy. We recommend using instead the native Keras format, e.g. `model.save('my_model.keras')`.\n",
      "  saving_api.save_model(\n"
     ]
    }
   ],
   "source": [
    "model_json = model.to_json()\n",
    "with open(\"emotiondetector.json\",'w') as json_file:\n",
    "    json_file.write(model_json)\n",
    "model.save(\"emotiondetector.h5\")"
   ]
  },
  {
   "cell_type": "code",
   "execution_count": 28,
   "id": "46e2098e",
   "metadata": {},
   "outputs": [],
   "source": [
    "from keras.models import model_from_json"
   ]
  },
  {
   "cell_type": "code",
   "execution_count": 29,
   "id": "90703547",
   "metadata": {},
   "outputs": [
    {
     "ename": "FileNotFoundError",
     "evalue": "[Errno 2] No such file or directory: 'facialemotionmodel.json'",
     "output_type": "error",
     "traceback": [
      "\u001b[1;31m---------------------------------------------------------------------------\u001b[0m",
      "\u001b[1;31mFileNotFoundError\u001b[0m                         Traceback (most recent call last)",
      "Cell \u001b[1;32mIn[29], line 1\u001b[0m\n\u001b[1;32m----> 1\u001b[0m json_file \u001b[38;5;241m=\u001b[39m \u001b[38;5;28;43mopen\u001b[39;49m\u001b[43m(\u001b[49m\u001b[38;5;124;43m\"\u001b[39;49m\u001b[38;5;124;43mfacialemotionmodel.json\u001b[39;49m\u001b[38;5;124;43m\"\u001b[39;49m\u001b[43m,\u001b[49m\u001b[43m \u001b[49m\u001b[38;5;124;43m\"\u001b[39;49m\u001b[38;5;124;43mr\u001b[39;49m\u001b[38;5;124;43m\"\u001b[39;49m\u001b[43m)\u001b[49m\n\u001b[0;32m      2\u001b[0m model_json \u001b[38;5;241m=\u001b[39m json_file\u001b[38;5;241m.\u001b[39mread()\n\u001b[0;32m      3\u001b[0m json_file\u001b[38;5;241m.\u001b[39mclose()\n",
      "File \u001b[1;32m~\\AppData\\Local\\Programs\\Python\\Python311\\Lib\\site-packages\\IPython\\core\\interactiveshell.py:308\u001b[0m, in \u001b[0;36m_modified_open\u001b[1;34m(file, *args, **kwargs)\u001b[0m\n\u001b[0;32m    301\u001b[0m \u001b[38;5;28;01mif\u001b[39;00m file \u001b[38;5;129;01min\u001b[39;00m {\u001b[38;5;241m0\u001b[39m, \u001b[38;5;241m1\u001b[39m, \u001b[38;5;241m2\u001b[39m}:\n\u001b[0;32m    302\u001b[0m     \u001b[38;5;28;01mraise\u001b[39;00m \u001b[38;5;167;01mValueError\u001b[39;00m(\n\u001b[0;32m    303\u001b[0m         \u001b[38;5;124mf\u001b[39m\u001b[38;5;124m\"\u001b[39m\u001b[38;5;124mIPython won\u001b[39m\u001b[38;5;124m'\u001b[39m\u001b[38;5;124mt let you open fd=\u001b[39m\u001b[38;5;132;01m{\u001b[39;00mfile\u001b[38;5;132;01m}\u001b[39;00m\u001b[38;5;124m by default \u001b[39m\u001b[38;5;124m\"\u001b[39m\n\u001b[0;32m    304\u001b[0m         \u001b[38;5;124m\"\u001b[39m\u001b[38;5;124mas it is likely to crash IPython. If you know what you are doing, \u001b[39m\u001b[38;5;124m\"\u001b[39m\n\u001b[0;32m    305\u001b[0m         \u001b[38;5;124m\"\u001b[39m\u001b[38;5;124myou can use builtins\u001b[39m\u001b[38;5;124m'\u001b[39m\u001b[38;5;124m open.\u001b[39m\u001b[38;5;124m\"\u001b[39m\n\u001b[0;32m    306\u001b[0m     )\n\u001b[1;32m--> 308\u001b[0m \u001b[38;5;28;01mreturn\u001b[39;00m \u001b[43mio_open\u001b[49m\u001b[43m(\u001b[49m\u001b[43mfile\u001b[49m\u001b[43m,\u001b[49m\u001b[43m \u001b[49m\u001b[38;5;241;43m*\u001b[39;49m\u001b[43margs\u001b[49m\u001b[43m,\u001b[49m\u001b[43m \u001b[49m\u001b[38;5;241;43m*\u001b[39;49m\u001b[38;5;241;43m*\u001b[39;49m\u001b[43mkwargs\u001b[49m\u001b[43m)\u001b[49m\n",
      "\u001b[1;31mFileNotFoundError\u001b[0m: [Errno 2] No such file or directory: 'facialemotionmodel.json'"
     ]
    }
   ],
   "source": [
    "json_file = open(\"facialemotionmodel.json\", \"r\")\n",
    "model_json = json_file.read()\n",
    "json_file.close()\n",
    "model = model_from_json(model_json)\n",
    "model.load_weights(\"facialemotionmodel.h5\")"
   ]
  },
  {
   "cell_type": "code",
   "execution_count": null,
   "id": "3932bbe8",
   "metadata": {},
   "outputs": [],
   "source": [
    "label = ['angry','disgust','fear','happy','neutral','sad','surprise']"
   ]
  },
  {
   "cell_type": "code",
   "execution_count": null,
   "id": "b0ccbacf",
   "metadata": {},
   "outputs": [],
   "source": [
    "def ef(image):\n",
    "    img = load_img(image,grayscale =  True )\n",
    "    feature = np.array(img)\n",
    "    feature = feature.reshape(1,48,48,1)\n",
    "    return feature/255.0\n",
    "    "
   ]
  },
  {
   "cell_type": "code",
   "execution_count": null,
   "id": "5882c78e",
   "metadata": {},
   "outputs": [],
   "source": [
    "image = 'images/train/sad/42.jpg'\n",
    "print(\"original image is of sad\")\n",
    "img = ef(image)\n",
    "pred = model.predict(img)\n",
    "pred_label = label[pred.argmax()]\n",
    "print(\"model prediction is \",pred_label)"
   ]
  },
  {
   "cell_type": "code",
   "execution_count": null,
   "id": "8994206c",
   "metadata": {},
   "outputs": [],
   "source": [
    "!pip install matplotlib\n",
    "import matplotlib.pyplot as plt\n",
    "%matplotlib inline"
   ]
  },
  {
   "cell_type": "code",
   "execution_count": null,
   "id": "c83af9e1",
   "metadata": {},
   "outputs": [],
   "source": [
    "image = 'images/train/sad/42.jpg'\n",
    "print(\"original image is of sad\")\n",
    "img = ef(image)\n",
    "pred = model.predict(img)\n",
    "pred_label = label[pred.argmax()]\n",
    "print(\"model prediction is \",pred_label)\n",
    "plt.imshow(img.reshape(48,48),cmap='gray')"
   ]
  },
  {
   "cell_type": "code",
   "execution_count": null,
   "id": "5adb7b7a",
   "metadata": {},
   "outputs": [],
   "source": [
    "image = 'images/train/fear/2.jpg'\n",
    "print(\"original image is of fear\")\n",
    "img = ef(image)\n",
    "pred = model.predict(img)\n",
    "pred_label = label[pred.argmax()]\n",
    "print(\"model prediction is \",pred_label)\n",
    "plt.imshow(img.reshape(48,48),cmap='gray')"
   ]
  },
  {
   "cell_type": "code",
   "execution_count": null,
   "id": "e5ea96ba",
   "metadata": {},
   "outputs": [],
   "source": [
    "image = 'images/train/disgust/299.jpg'\n",
    "print(\"original image is of disgust\")\n",
    "img = ef(image)\n",
    "pred = model.predict(img)\n",
    "pred_label = label[pred.argmax()]\n",
    "print(\"model prediction is \",pred_label)\n",
    "plt.imshow(img.reshape(48,48),cmap='gray')"
   ]
  },
  {
   "cell_type": "code",
   "execution_count": null,
   "id": "1c4befa7",
   "metadata": {},
   "outputs": [],
   "source": [
    "image = 'images/train/happy/7.jpg'\n",
    "print(\"original image is of happy\")\n",
    "img = ef(image)\n",
    "pred = model.predict(img)\n",
    "pred_label = label[pred.argmax()]\n",
    "print(\"model prediction is \",pred_label)\n",
    "plt.imshow(img.reshape(48,48),cmap='gray')"
   ]
  },
  {
   "cell_type": "code",
   "execution_count": null,
   "id": "8d6bb2fa",
   "metadata": {},
   "outputs": [],
   "source": [
    "image = 'images/train/surprise/15.jpg'\n",
    "print(\"original image is of surprise\")\n",
    "img = ef(image)\n",
    "pred = model.predict(img)\n",
    "pred_label = label[pred.argmax()]\n",
    "print(\"model prediction is \",pred_label)\n",
    "plt.imshow(img.reshape(48,48),cmap='gray')"
   ]
  },
  {
   "cell_type": "code",
   "execution_count": null,
   "id": "b005764f",
   "metadata": {},
   "outputs": [],
   "source": [
    "print(model)"
   ]
  },
  {
   "cell_type": "code",
   "execution_count": null,
   "id": "cc234f6b-cce3-422f-b962-a536fcb76f04",
   "metadata": {},
   "outputs": [],
   "source": [
    "\n",
    "import torch\n",
    "import torch.nn as nn\n",
    "import torch.nn.functional as F\n",
    "import torch.optim as optim\n",
    "from sklearn.model_selection import train_test_split\n",
    "from torch.optim.lr_scheduler import StepLR\n",
    "from torch.utils.data import DataLoader, Dataset\n",
    "from torchvision import datasets, transforms"
   ]
  },
  {
   "cell_type": "code",
   "execution_count": null,
   "id": "2fcae2e0-9314-4ff8-b051-8320cf2d52a4",
   "metadata": {},
   "outputs": [],
   "source": [
    "model.summary()"
   ]
  },
  {
   "cell_type": "code",
   "execution_count": null,
   "id": "ba195013-9e39-4ba1-a3b6-88c7af8f2531",
   "metadata": {},
   "outputs": [],
   "source": [
    "# model.save(\"emotiondetector.h5\")"
   ]
  }
 ],
 "metadata": {
  "kernelspec": {
   "display_name": "Python 3 (ipykernel)",
   "language": "python",
   "name": "python3"
  },
  "language_info": {
   "codemirror_mode": {
    "name": "ipython",
    "version": 3
   },
   "file_extension": ".py",
   "mimetype": "text/x-python",
   "name": "python",
   "nbconvert_exporter": "python",
   "pygments_lexer": "ipython3",
   "version": "3.11.5"
  }
 },
 "nbformat": 4,
 "nbformat_minor": 5
}
